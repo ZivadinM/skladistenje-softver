{
 "cells": [
  {
   "cell_type": "code",
   "execution_count": 2,
   "id": "8667aad4",
   "metadata": {},
   "outputs": [
    {
     "name": "stderr",
     "output_type": "stream",
     "text": [
      "c:\\Users\\Zika\\Desktop\\skladistenje-softver\\.venv\\Lib\\site-packages\\tqdm\\auto.py:21: TqdmWarning: IProgress not found. Please update jupyter and ipywidgets. See https://ipywidgets.readthedocs.io/en/stable/user_install.html\n",
      "  from .autonotebook import tqdm as notebook_tqdm\n"
     ]
    }
   ],
   "source": [
    "import pandas as pd\n",
    "import numpy as np\n",
    "import matplotlib.pyplot as plt\n",
    "import seaborn as sns\n",
    "import kagglehub"
   ]
  },
  {
   "cell_type": "code",
   "execution_count": 3,
   "id": "73fa5eb7",
   "metadata": {},
   "outputs": [
    {
     "name": "stdout",
     "output_type": "stream",
     "text": [
      "Path to dataset files: C:\\Users\\Zika\\.cache\\kagglehub\\datasets\\khwaishsaxena\\lung-cancer-dataset\\versions\\1\n"
     ]
    }
   ],
   "source": [
    "path = kagglehub.dataset_download(\"khwaishsaxena/lung-cancer-dataset\")\n",
    "\n",
    "print(\"Path to dataset files:\", path)"
   ]
  },
  {
   "cell_type": "code",
   "execution_count": 4,
   "id": "8f5f2a00",
   "metadata": {},
   "outputs": [],
   "source": [
    "file_path = 'C:\\\\Users\\\\Zika\\\\Desktop\\\\skladistenje-softver\\\\Lung Cancer.csv'\n",
    "df = pd.read_csv(file_path)"
   ]
  },
  {
   "cell_type": "code",
   "execution_count": 5,
   "id": "2003473a",
   "metadata": {},
   "outputs": [
    {
     "data": {
      "text/html": [
       "<div>\n",
       "<style scoped>\n",
       "    .dataframe tbody tr th:only-of-type {\n",
       "        vertical-align: middle;\n",
       "    }\n",
       "\n",
       "    .dataframe tbody tr th {\n",
       "        vertical-align: top;\n",
       "    }\n",
       "\n",
       "    .dataframe thead th {\n",
       "        text-align: right;\n",
       "    }\n",
       "</style>\n",
       "<table border=\"1\" class=\"dataframe\">\n",
       "  <thead>\n",
       "    <tr style=\"text-align: right;\">\n",
       "      <th></th>\n",
       "      <th>id</th>\n",
       "      <th>age</th>\n",
       "      <th>gender</th>\n",
       "      <th>country</th>\n",
       "      <th>diagnosis_date</th>\n",
       "      <th>cancer_stage</th>\n",
       "      <th>family_history</th>\n",
       "      <th>smoking_status</th>\n",
       "      <th>bmi</th>\n",
       "      <th>cholesterol_level</th>\n",
       "      <th>hypertension</th>\n",
       "      <th>asthma</th>\n",
       "      <th>cirrhosis</th>\n",
       "      <th>other_cancer</th>\n",
       "      <th>treatment_type</th>\n",
       "      <th>end_treatment_date</th>\n",
       "      <th>survived</th>\n",
       "    </tr>\n",
       "  </thead>\n",
       "  <tbody>\n",
       "    <tr>\n",
       "      <th>0</th>\n",
       "      <td>1</td>\n",
       "      <td>64.0</td>\n",
       "      <td>Male</td>\n",
       "      <td>Sweden</td>\n",
       "      <td>2016-04-05</td>\n",
       "      <td>Stage I</td>\n",
       "      <td>Yes</td>\n",
       "      <td>Passive Smoker</td>\n",
       "      <td>29.4</td>\n",
       "      <td>199</td>\n",
       "      <td>0</td>\n",
       "      <td>0</td>\n",
       "      <td>1</td>\n",
       "      <td>0</td>\n",
       "      <td>Chemotherapy</td>\n",
       "      <td>2017-09-10</td>\n",
       "      <td>0</td>\n",
       "    </tr>\n",
       "    <tr>\n",
       "      <th>1</th>\n",
       "      <td>2</td>\n",
       "      <td>50.0</td>\n",
       "      <td>Female</td>\n",
       "      <td>Netherlands</td>\n",
       "      <td>2023-04-20</td>\n",
       "      <td>Stage III</td>\n",
       "      <td>Yes</td>\n",
       "      <td>Passive Smoker</td>\n",
       "      <td>41.2</td>\n",
       "      <td>280</td>\n",
       "      <td>1</td>\n",
       "      <td>1</td>\n",
       "      <td>0</td>\n",
       "      <td>0</td>\n",
       "      <td>Surgery</td>\n",
       "      <td>2024-06-17</td>\n",
       "      <td>1</td>\n",
       "    </tr>\n",
       "    <tr>\n",
       "      <th>2</th>\n",
       "      <td>3</td>\n",
       "      <td>65.0</td>\n",
       "      <td>Female</td>\n",
       "      <td>Hungary</td>\n",
       "      <td>2023-04-05</td>\n",
       "      <td>Stage III</td>\n",
       "      <td>Yes</td>\n",
       "      <td>Former Smoker</td>\n",
       "      <td>44.0</td>\n",
       "      <td>268</td>\n",
       "      <td>1</td>\n",
       "      <td>1</td>\n",
       "      <td>0</td>\n",
       "      <td>0</td>\n",
       "      <td>Combined</td>\n",
       "      <td>2024-04-09</td>\n",
       "      <td>0</td>\n",
       "    </tr>\n",
       "    <tr>\n",
       "      <th>3</th>\n",
       "      <td>4</td>\n",
       "      <td>51.0</td>\n",
       "      <td>Female</td>\n",
       "      <td>Belgium</td>\n",
       "      <td>2016-02-05</td>\n",
       "      <td>Stage I</td>\n",
       "      <td>No</td>\n",
       "      <td>Passive Smoker</td>\n",
       "      <td>43.0</td>\n",
       "      <td>241</td>\n",
       "      <td>1</td>\n",
       "      <td>1</td>\n",
       "      <td>0</td>\n",
       "      <td>0</td>\n",
       "      <td>Chemotherapy</td>\n",
       "      <td>2017-04-23</td>\n",
       "      <td>0</td>\n",
       "    </tr>\n",
       "    <tr>\n",
       "      <th>4</th>\n",
       "      <td>5</td>\n",
       "      <td>37.0</td>\n",
       "      <td>Male</td>\n",
       "      <td>Luxembourg</td>\n",
       "      <td>2023-11-29</td>\n",
       "      <td>Stage I</td>\n",
       "      <td>No</td>\n",
       "      <td>Passive Smoker</td>\n",
       "      <td>19.7</td>\n",
       "      <td>178</td>\n",
       "      <td>0</td>\n",
       "      <td>0</td>\n",
       "      <td>0</td>\n",
       "      <td>0</td>\n",
       "      <td>Combined</td>\n",
       "      <td>2025-01-08</td>\n",
       "      <td>0</td>\n",
       "    </tr>\n",
       "  </tbody>\n",
       "</table>\n",
       "</div>"
      ],
      "text/plain": [
       "   id   age  gender      country diagnosis_date cancer_stage family_history  \\\n",
       "0   1  64.0    Male       Sweden     2016-04-05      Stage I            Yes   \n",
       "1   2  50.0  Female  Netherlands     2023-04-20    Stage III            Yes   \n",
       "2   3  65.0  Female      Hungary     2023-04-05    Stage III            Yes   \n",
       "3   4  51.0  Female      Belgium     2016-02-05      Stage I             No   \n",
       "4   5  37.0    Male   Luxembourg     2023-11-29      Stage I             No   \n",
       "\n",
       "   smoking_status   bmi  cholesterol_level  hypertension  asthma  cirrhosis  \\\n",
       "0  Passive Smoker  29.4                199             0       0          1   \n",
       "1  Passive Smoker  41.2                280             1       1          0   \n",
       "2   Former Smoker  44.0                268             1       1          0   \n",
       "3  Passive Smoker  43.0                241             1       1          0   \n",
       "4  Passive Smoker  19.7                178             0       0          0   \n",
       "\n",
       "   other_cancer treatment_type end_treatment_date  survived  \n",
       "0             0   Chemotherapy         2017-09-10         0  \n",
       "1             0        Surgery         2024-06-17         1  \n",
       "2             0       Combined         2024-04-09         0  \n",
       "3             0   Chemotherapy         2017-04-23         0  \n",
       "4             0       Combined         2025-01-08         0  "
      ]
     },
     "execution_count": 5,
     "metadata": {},
     "output_type": "execute_result"
    }
   ],
   "source": [
    "df.head()"
   ]
  },
  {
   "cell_type": "code",
   "execution_count": 6,
   "id": "0aa6b2b8",
   "metadata": {},
   "outputs": [
    {
     "data": {
      "text/plain": [
       "890000"
      ]
     },
     "execution_count": 6,
     "metadata": {},
     "output_type": "execute_result"
    }
   ],
   "source": [
    "df.shape[0]"
   ]
  },
  {
   "cell_type": "code",
   "execution_count": 7,
   "id": "91a9a601",
   "metadata": {},
   "outputs": [
    {
     "data": {
      "text/plain": [
       "17"
      ]
     },
     "execution_count": 7,
     "metadata": {},
     "output_type": "execute_result"
    }
   ],
   "source": [
    "df.shape[1]"
   ]
  },
  {
   "cell_type": "code",
   "execution_count": 21,
   "id": "44345170",
   "metadata": {},
   "outputs": [
    {
     "name": "stdout",
     "output_type": "stream",
     "text": [
      "<class 'pandas.core.frame.DataFrame'>\n",
      "RangeIndex: 890000 entries, 0 to 889999\n",
      "Data columns (total 17 columns):\n",
      " #   Column              Non-Null Count   Dtype  \n",
      "---  ------              --------------   -----  \n",
      " 0   id                  890000 non-null  int64  \n",
      " 1   age                 890000 non-null  float64\n",
      " 2   gender              890000 non-null  object \n",
      " 3   country             890000 non-null  object \n",
      " 4   diagnosis_date      890000 non-null  object \n",
      " 5   cancer_stage        890000 non-null  object \n",
      " 6   family_history      890000 non-null  object \n",
      " 7   smoking_status      890000 non-null  object \n",
      " 8   bmi                 890000 non-null  float64\n",
      " 9   cholesterol_level   890000 non-null  int64  \n",
      " 10  hypertension        890000 non-null  int64  \n",
      " 11  asthma              890000 non-null  int64  \n",
      " 12  cirrhosis           890000 non-null  int64  \n",
      " 13  other_cancer        890000 non-null  int64  \n",
      " 14  treatment_type      890000 non-null  object \n",
      " 15  end_treatment_date  890000 non-null  object \n",
      " 16  survived            890000 non-null  int64  \n",
      "dtypes: float64(2), int64(7), object(8)\n",
      "memory usage: 115.4+ MB\n"
     ]
    }
   ],
   "source": [
    "df.info()"
   ]
  },
  {
   "cell_type": "code",
   "execution_count": 8,
   "id": "08efc0e7",
   "metadata": {},
   "outputs": [
    {
     "data": {
      "text/plain": [
       "Index(['id', 'age', 'gender', 'country', 'diagnosis_date', 'cancer_stage',\n",
       "       'family_history', 'smoking_status', 'bmi', 'cholesterol_level',\n",
       "       'hypertension', 'asthma', 'cirrhosis', 'other_cancer', 'treatment_type',\n",
       "       'end_treatment_date', 'survived'],\n",
       "      dtype='object')"
      ]
     },
     "execution_count": 8,
     "metadata": {},
     "output_type": "execute_result"
    }
   ],
   "source": [
    "df.columns"
   ]
  },
  {
   "cell_type": "code",
   "execution_count": 9,
   "id": "15e1b8bc",
   "metadata": {},
   "outputs": [
    {
     "data": {
      "text/plain": [
       "id                    0\n",
       "age                   0\n",
       "gender                0\n",
       "country               0\n",
       "diagnosis_date        0\n",
       "cancer_stage          0\n",
       "family_history        0\n",
       "smoking_status        0\n",
       "bmi                   0\n",
       "cholesterol_level     0\n",
       "hypertension          0\n",
       "asthma                0\n",
       "cirrhosis             0\n",
       "other_cancer          0\n",
       "treatment_type        0\n",
       "end_treatment_date    0\n",
       "survived              0\n",
       "dtype: int64"
      ]
     },
     "execution_count": 9,
     "metadata": {},
     "output_type": "execute_result"
    }
   ],
   "source": [
    "df.isnull().sum()"
   ]
  },
  {
   "cell_type": "code",
   "execution_count": 10,
   "id": "ea6f6a91",
   "metadata": {},
   "outputs": [
    {
     "data": {
      "text/html": [
       "<div>\n",
       "<style scoped>\n",
       "    .dataframe tbody tr th:only-of-type {\n",
       "        vertical-align: middle;\n",
       "    }\n",
       "\n",
       "    .dataframe tbody tr th {\n",
       "        vertical-align: top;\n",
       "    }\n",
       "\n",
       "    .dataframe thead th {\n",
       "        text-align: right;\n",
       "    }\n",
       "</style>\n",
       "<table border=\"1\" class=\"dataframe\">\n",
       "  <thead>\n",
       "    <tr style=\"text-align: right;\">\n",
       "      <th></th>\n",
       "      <th>id</th>\n",
       "      <th>age</th>\n",
       "      <th>bmi</th>\n",
       "      <th>cholesterol_level</th>\n",
       "      <th>hypertension</th>\n",
       "      <th>asthma</th>\n",
       "      <th>cirrhosis</th>\n",
       "      <th>other_cancer</th>\n",
       "      <th>survived</th>\n",
       "    </tr>\n",
       "  </thead>\n",
       "  <tbody>\n",
       "    <tr>\n",
       "      <th>count</th>\n",
       "      <td>890000.000000</td>\n",
       "      <td>890000.000000</td>\n",
       "      <td>890000.000000</td>\n",
       "      <td>890000.000000</td>\n",
       "      <td>890000.000000</td>\n",
       "      <td>890000.000000</td>\n",
       "      <td>890000.000000</td>\n",
       "      <td>890000.000000</td>\n",
       "      <td>890000.000000</td>\n",
       "    </tr>\n",
       "    <tr>\n",
       "      <th>mean</th>\n",
       "      <td>445000.500000</td>\n",
       "      <td>55.007008</td>\n",
       "      <td>30.494172</td>\n",
       "      <td>233.633916</td>\n",
       "      <td>0.750024</td>\n",
       "      <td>0.469740</td>\n",
       "      <td>0.225956</td>\n",
       "      <td>0.088157</td>\n",
       "      <td>0.220229</td>\n",
       "    </tr>\n",
       "    <tr>\n",
       "      <th>std</th>\n",
       "      <td>256921.014127</td>\n",
       "      <td>9.994485</td>\n",
       "      <td>8.368539</td>\n",
       "      <td>43.432278</td>\n",
       "      <td>0.432999</td>\n",
       "      <td>0.499084</td>\n",
       "      <td>0.418211</td>\n",
       "      <td>0.283524</td>\n",
       "      <td>0.414401</td>\n",
       "    </tr>\n",
       "    <tr>\n",
       "      <th>min</th>\n",
       "      <td>1.000000</td>\n",
       "      <td>4.000000</td>\n",
       "      <td>16.000000</td>\n",
       "      <td>150.000000</td>\n",
       "      <td>0.000000</td>\n",
       "      <td>0.000000</td>\n",
       "      <td>0.000000</td>\n",
       "      <td>0.000000</td>\n",
       "      <td>0.000000</td>\n",
       "    </tr>\n",
       "    <tr>\n",
       "      <th>25%</th>\n",
       "      <td>222500.750000</td>\n",
       "      <td>48.000000</td>\n",
       "      <td>23.300000</td>\n",
       "      <td>196.000000</td>\n",
       "      <td>1.000000</td>\n",
       "      <td>0.000000</td>\n",
       "      <td>0.000000</td>\n",
       "      <td>0.000000</td>\n",
       "      <td>0.000000</td>\n",
       "    </tr>\n",
       "    <tr>\n",
       "      <th>50%</th>\n",
       "      <td>445000.500000</td>\n",
       "      <td>55.000000</td>\n",
       "      <td>30.500000</td>\n",
       "      <td>242.000000</td>\n",
       "      <td>1.000000</td>\n",
       "      <td>0.000000</td>\n",
       "      <td>0.000000</td>\n",
       "      <td>0.000000</td>\n",
       "      <td>0.000000</td>\n",
       "    </tr>\n",
       "    <tr>\n",
       "      <th>75%</th>\n",
       "      <td>667500.250000</td>\n",
       "      <td>62.000000</td>\n",
       "      <td>37.700000</td>\n",
       "      <td>271.000000</td>\n",
       "      <td>1.000000</td>\n",
       "      <td>1.000000</td>\n",
       "      <td>0.000000</td>\n",
       "      <td>0.000000</td>\n",
       "      <td>0.000000</td>\n",
       "    </tr>\n",
       "    <tr>\n",
       "      <th>max</th>\n",
       "      <td>890000.000000</td>\n",
       "      <td>104.000000</td>\n",
       "      <td>45.000000</td>\n",
       "      <td>300.000000</td>\n",
       "      <td>1.000000</td>\n",
       "      <td>1.000000</td>\n",
       "      <td>1.000000</td>\n",
       "      <td>1.000000</td>\n",
       "      <td>1.000000</td>\n",
       "    </tr>\n",
       "  </tbody>\n",
       "</table>\n",
       "</div>"
      ],
      "text/plain": [
       "                  id            age            bmi  cholesterol_level  \\\n",
       "count  890000.000000  890000.000000  890000.000000      890000.000000   \n",
       "mean   445000.500000      55.007008      30.494172         233.633916   \n",
       "std    256921.014127       9.994485       8.368539          43.432278   \n",
       "min         1.000000       4.000000      16.000000         150.000000   \n",
       "25%    222500.750000      48.000000      23.300000         196.000000   \n",
       "50%    445000.500000      55.000000      30.500000         242.000000   \n",
       "75%    667500.250000      62.000000      37.700000         271.000000   \n",
       "max    890000.000000     104.000000      45.000000         300.000000   \n",
       "\n",
       "        hypertension         asthma      cirrhosis   other_cancer  \\\n",
       "count  890000.000000  890000.000000  890000.000000  890000.000000   \n",
       "mean        0.750024       0.469740       0.225956       0.088157   \n",
       "std         0.432999       0.499084       0.418211       0.283524   \n",
       "min         0.000000       0.000000       0.000000       0.000000   \n",
       "25%         1.000000       0.000000       0.000000       0.000000   \n",
       "50%         1.000000       0.000000       0.000000       0.000000   \n",
       "75%         1.000000       1.000000       0.000000       0.000000   \n",
       "max         1.000000       1.000000       1.000000       1.000000   \n",
       "\n",
       "            survived  \n",
       "count  890000.000000  \n",
       "mean        0.220229  \n",
       "std         0.414401  \n",
       "min         0.000000  \n",
       "25%         0.000000  \n",
       "50%         0.000000  \n",
       "75%         0.000000  \n",
       "max         1.000000  "
      ]
     },
     "execution_count": 10,
     "metadata": {},
     "output_type": "execute_result"
    }
   ],
   "source": [
    "df.describe()"
   ]
  },
  {
   "cell_type": "code",
   "execution_count": 11,
   "id": "396bc6ea",
   "metadata": {},
   "outputs": [
    {
     "data": {
      "text/plain": [
       "survived\n",
       "0    693996\n",
       "1    196004\n",
       "Name: count, dtype: int64"
      ]
     },
     "execution_count": 11,
     "metadata": {},
     "output_type": "execute_result"
    }
   ],
   "source": [
    "df['survived'].value_counts()"
   ]
  },
  {
   "cell_type": "code",
   "execution_count": 12,
   "id": "25f08d42",
   "metadata": {},
   "outputs": [
    {
     "data": {
      "text/plain": [
       "95"
      ]
     },
     "execution_count": 12,
     "metadata": {},
     "output_type": "execute_result"
    }
   ],
   "source": [
    "df['age'].nunique()"
   ]
  },
  {
   "cell_type": "code",
   "execution_count": 13,
   "id": "2af0027b",
   "metadata": {},
   "outputs": [
    {
     "data": {
      "text/plain": [
       "<Axes: >"
      ]
     },
     "execution_count": 13,
     "metadata": {},
     "output_type": "execute_result"
    },
    {
     "data": {
      "image/png": "[encoded data removed]",
      "text/plain": [
       "<Figure size 640x480 with 1 Axes>"
      ]
     },
     "metadata": {},
     "output_type": "display_data"
    }
   ],
   "source": [
    "df['cholesterol_level'].hist()"
   ]
  },
  {
   "cell_type": "code",
   "execution_count": 14,
   "id": "8365b8e8",
   "metadata": {},
   "outputs": [
    {
     "data": {
      "text/plain": [
       "<Axes: xlabel='bmi'>"
      ]
     },
     "execution_count": 14,
     "metadata": {},
     "output_type": "execute_result"
    },
    {
     "data": {
      "image/png": "[encoded data removed]",
      "text/plain": [
       "<Figure size 640x480 with 1 Axes>"
      ]
     },
     "metadata": {},
     "output_type": "display_data"
    }
   ],
   "source": [
    "sns.boxplot(data=df, x='bmi')"
   ]
  },
  {
   "cell_type": "code",
   "execution_count": 20,
   "id": "9acce385",
   "metadata": {},
   "outputs": [
    {
     "data": {
      "text/html": [
       "<div>\n",
       "<style scoped>\n",
       "    .dataframe tbody tr th:only-of-type {\n",
       "        vertical-align: middle;\n",
       "    }\n",
       "\n",
       "    .dataframe tbody tr th {\n",
       "        vertical-align: top;\n",
       "    }\n",
       "\n",
       "    .dataframe thead th {\n",
       "        text-align: right;\n",
       "    }\n",
       "</style>\n",
       "<table border=\"1\" class=\"dataframe\">\n",
       "  <thead>\n",
       "    <tr style=\"text-align: right;\">\n",
       "      <th></th>\n",
       "      <th>age</th>\n",
       "      <th>bmi</th>\n",
       "      <th>cholesterol_level</th>\n",
       "      <th>hypertension</th>\n",
       "      <th>asthma</th>\n",
       "      <th>cirrhosis</th>\n",
       "      <th>other_cancer</th>\n",
       "      <th>survived</th>\n",
       "    </tr>\n",
       "  </thead>\n",
       "  <tbody>\n",
       "    <tr>\n",
       "      <th>age</th>\n",
       "      <td>1.000000</td>\n",
       "      <td>0.000915</td>\n",
       "      <td>0.001799</td>\n",
       "      <td>-0.001082</td>\n",
       "      <td>-0.000519</td>\n",
       "      <td>-0.000067</td>\n",
       "      <td>-0.000785</td>\n",
       "      <td>0.001233</td>\n",
       "    </tr>\n",
       "    <tr>\n",
       "      <th>bmi</th>\n",
       "      <td>0.000915</td>\n",
       "      <td>1.000000</td>\n",
       "      <td>0.746905</td>\n",
       "      <td>0.001923</td>\n",
       "      <td>0.001662</td>\n",
       "      <td>0.000608</td>\n",
       "      <td>0.000771</td>\n",
       "      <td>0.000007</td>\n",
       "    </tr>\n",
       "    <tr>\n",
       "      <th>cholesterol_level</th>\n",
       "      <td>0.001799</td>\n",
       "      <td>0.746905</td>\n",
       "      <td>1.000000</td>\n",
       "      <td>0.002049</td>\n",
       "      <td>0.001263</td>\n",
       "      <td>0.000467</td>\n",
       "      <td>-0.000185</td>\n",
       "      <td>0.000157</td>\n",
       "    </tr>\n",
       "    <tr>\n",
       "      <th>hypertension</th>\n",
       "      <td>-0.001082</td>\n",
       "      <td>0.001923</td>\n",
       "      <td>0.002049</td>\n",
       "      <td>1.000000</td>\n",
       "      <td>0.108201</td>\n",
       "      <td>0.097139</td>\n",
       "      <td>0.073651</td>\n",
       "      <td>0.000059</td>\n",
       "    </tr>\n",
       "    <tr>\n",
       "      <th>asthma</th>\n",
       "      <td>-0.000519</td>\n",
       "      <td>0.001662</td>\n",
       "      <td>0.001263</td>\n",
       "      <td>0.108201</td>\n",
       "      <td>1.000000</td>\n",
       "      <td>0.053147</td>\n",
       "      <td>0.039283</td>\n",
       "      <td>-0.001809</td>\n",
       "    </tr>\n",
       "    <tr>\n",
       "      <th>cirrhosis</th>\n",
       "      <td>-0.000067</td>\n",
       "      <td>0.000608</td>\n",
       "      <td>0.000467</td>\n",
       "      <td>0.097139</td>\n",
       "      <td>0.053147</td>\n",
       "      <td>1.000000</td>\n",
       "      <td>0.022671</td>\n",
       "      <td>0.001956</td>\n",
       "    </tr>\n",
       "    <tr>\n",
       "      <th>other_cancer</th>\n",
       "      <td>-0.000785</td>\n",
       "      <td>0.000771</td>\n",
       "      <td>-0.000185</td>\n",
       "      <td>0.073651</td>\n",
       "      <td>0.039283</td>\n",
       "      <td>0.022671</td>\n",
       "      <td>1.000000</td>\n",
       "      <td>-0.001972</td>\n",
       "    </tr>\n",
       "    <tr>\n",
       "      <th>survived</th>\n",
       "      <td>0.001233</td>\n",
       "      <td>0.000007</td>\n",
       "      <td>0.000157</td>\n",
       "      <td>0.000059</td>\n",
       "      <td>-0.001809</td>\n",
       "      <td>0.001956</td>\n",
       "      <td>-0.001972</td>\n",
       "      <td>1.000000</td>\n",
       "    </tr>\n",
       "  </tbody>\n",
       "</table>\n",
       "</div>"
      ],
      "text/plain": [
       "                        age       bmi  cholesterol_level  hypertension  \\\n",
       "age                1.000000  0.000915           0.001799     -0.001082   \n",
       "bmi                0.000915  1.000000           0.746905      0.001923   \n",
       "cholesterol_level  0.001799  0.746905           1.000000      0.002049   \n",
       "hypertension      -0.001082  0.001923           0.002049      1.000000   \n",
       "asthma            -0.000519  0.001662           0.001263      0.108201   \n",
       "cirrhosis         -0.000067  0.000608           0.000467      0.097139   \n",
       "other_cancer      -0.000785  0.000771          -0.000185      0.073651   \n",
       "survived           0.001233  0.000007           0.000157      0.000059   \n",
       "\n",
       "                     asthma  cirrhosis  other_cancer  survived  \n",
       "age               -0.000519  -0.000067     -0.000785  0.001233  \n",
       "bmi                0.001662   0.000608      0.000771  0.000007  \n",
       "cholesterol_level  0.001263   0.000467     -0.000185  0.000157  \n",
       "hypertension       0.108201   0.097139      0.073651  0.000059  \n",
       "asthma             1.000000   0.053147      0.039283 -0.001809  \n",
       "cirrhosis          0.053147   1.000000      0.022671  0.001956  \n",
       "other_cancer       0.039283   0.022671      1.000000 -0.001972  \n",
       "survived          -0.001809   0.001956     -0.001972  1.000000  "
      ]
     },
     "execution_count": 20,
     "metadata": {},
     "output_type": "execute_result"
    }
   ],
   "source": [
    "df_numeric = df.select_dtypes(include='number').drop([\"id\"], axis=1) \n",
    "\n",
    "df_numeric.corr()\n",
    "# sns.heatmap(df_for_corelation, annot=True)"
   ]
  },
  {
   "cell_type": "code",
   "execution_count": 16,
   "id": "6bb9bbd5",
   "metadata": {},
   "outputs": [
    {
     "data": {
      "text/plain": [
       "bmi\n",
       "32.0    0.003616\n",
       "25.8    0.003601\n",
       "19.5    0.003592\n",
       "19.6    0.003591\n",
       "29.8    0.003589\n",
       "          ...   \n",
       "20.8    0.003302\n",
       "35.8    0.003301\n",
       "36.1    0.003298\n",
       "45.0    0.001754\n",
       "16.0    0.001651\n",
       "Name: proportion, Length: 291, dtype: float64"
      ]
     },
     "execution_count": 16,
     "metadata": {},
     "output_type": "execute_result"
    }
   ],
   "source": [
    "df['bmi'].value_counts(normalize=True)"
   ]
  },
  {
   "cell_type": "code",
   "execution_count": null,
   "id": "dba5a814",
   "metadata": {},
   "outputs": [],
   "source": [
    "df['datum_dijagnoze'] = pd.to_datetime(df['diagnosis_date'])\n",
    "df['kraj_tretmana'] = pd.to_datetime(df['end_treatment_date'])\n",
    "\n",
    "df['treatment_duration_days'] = (df['kraj_tretmana'] - df['datum_dijagnoze']).dt.days\n",
    "df.drop(['diagnosis_date', 'end_treatment_date', 'kraj_tretmana', 'datum_dijagnoze'], axis=1, inplace=True)\n"
   ]
  },
  {
   "cell_type": "code",
   "execution_count": 23,
   "id": "fe1f775f",
   "metadata": {},
   "outputs": [],
   "source": [
    "columns_to_encode = ['gender', 'country', 'family_history', 'smoking_status', 'treatment_type']\n",
    "\n",
    "df = pd.get_dummies(df, columns=columns_to_encode, drop_first=True)"
   ]
  },
  {
   "cell_type": "code",
   "execution_count": 24,
   "id": "60520604",
   "metadata": {},
   "outputs": [
    {
     "data": {
      "text/plain": [
       "cancer_stage\n",
       "Stage III    222594\n",
       "Stage IV     222527\n",
       "Stage I      222516\n",
       "Stage II     222363\n",
       "Name: count, dtype: int64"
      ]
     },
     "execution_count": 24,
     "metadata": {},
     "output_type": "execute_result"
    }
   ],
   "source": [
    "df['cancer_stage'].value_counts()\n"
   ]
  },
  {
   "cell_type": "code",
   "execution_count": 26,
   "id": "0be61f12",
   "metadata": {},
   "outputs": [],
   "source": [
    "stage_order = ['Stage I', 'Stage II', 'Stage III', 'Stage IV']\n",
    "\n",
    "df['stage'] = pd.Categorical(df['cancer_stage'], categories=stage_order, ordered=True).codes\n",
    "df.drop('cancer_stage', axis=1, inplace=True)"
   ]
  },
  {
   "cell_type": "code",
   "execution_count": 27,
   "id": "6b681e9e",
   "metadata": {},
   "outputs": [
    {
     "data": {
      "text/html": [
       "<div>\n",
       "<style scoped>\n",
       "    .dataframe tbody tr th:only-of-type {\n",
       "        vertical-align: middle;\n",
       "    }\n",
       "\n",
       "    .dataframe tbody tr th {\n",
       "        vertical-align: top;\n",
       "    }\n",
       "\n",
       "    .dataframe thead th {\n",
       "        text-align: right;\n",
       "    }\n",
       "</style>\n",
       "<table border=\"1\" class=\"dataframe\">\n",
       "  <thead>\n",
       "    <tr style=\"text-align: right;\">\n",
       "      <th></th>\n",
       "      <th>id</th>\n",
       "      <th>age</th>\n",
       "      <th>diagnosis_date</th>\n",
       "      <th>bmi</th>\n",
       "      <th>cholesterol_level</th>\n",
       "      <th>hypertension</th>\n",
       "      <th>asthma</th>\n",
       "      <th>cirrhosis</th>\n",
       "      <th>other_cancer</th>\n",
       "      <th>end_treatment_date</th>\n",
       "      <th>...</th>\n",
       "      <th>country_Spain</th>\n",
       "      <th>country_Sweden</th>\n",
       "      <th>family_history_Yes</th>\n",
       "      <th>smoking_status_Former Smoker</th>\n",
       "      <th>smoking_status_Never Smoked</th>\n",
       "      <th>smoking_status_Passive Smoker</th>\n",
       "      <th>treatment_type_Combined</th>\n",
       "      <th>treatment_type_Radiation</th>\n",
       "      <th>treatment_type_Surgery</th>\n",
       "      <th>stage</th>\n",
       "    </tr>\n",
       "  </thead>\n",
       "  <tbody>\n",
       "    <tr>\n",
       "      <th>0</th>\n",
       "      <td>1</td>\n",
       "      <td>64.0</td>\n",
       "      <td>2016-04-05</td>\n",
       "      <td>29.4</td>\n",
       "      <td>199</td>\n",
       "      <td>0</td>\n",
       "      <td>0</td>\n",
       "      <td>1</td>\n",
       "      <td>0</td>\n",
       "      <td>2017-09-10</td>\n",
       "      <td>...</td>\n",
       "      <td>False</td>\n",
       "      <td>True</td>\n",
       "      <td>True</td>\n",
       "      <td>False</td>\n",
       "      <td>False</td>\n",
       "      <td>True</td>\n",
       "      <td>False</td>\n",
       "      <td>False</td>\n",
       "      <td>False</td>\n",
       "      <td>0</td>\n",
       "    </tr>\n",
       "    <tr>\n",
       "      <th>1</th>\n",
       "      <td>2</td>\n",
       "      <td>50.0</td>\n",
       "      <td>2023-04-20</td>\n",
       "      <td>41.2</td>\n",
       "      <td>280</td>\n",
       "      <td>1</td>\n",
       "      <td>1</td>\n",
       "      <td>0</td>\n",
       "      <td>0</td>\n",
       "      <td>2024-06-17</td>\n",
       "      <td>...</td>\n",
       "      <td>False</td>\n",
       "      <td>False</td>\n",
       "      <td>True</td>\n",
       "      <td>False</td>\n",
       "      <td>False</td>\n",
       "      <td>True</td>\n",
       "      <td>False</td>\n",
       "      <td>False</td>\n",
       "      <td>True</td>\n",
       "      <td>2</td>\n",
       "    </tr>\n",
       "    <tr>\n",
       "      <th>2</th>\n",
       "      <td>3</td>\n",
       "      <td>65.0</td>\n",
       "      <td>2023-04-05</td>\n",
       "      <td>44.0</td>\n",
       "      <td>268</td>\n",
       "      <td>1</td>\n",
       "      <td>1</td>\n",
       "      <td>0</td>\n",
       "      <td>0</td>\n",
       "      <td>2024-04-09</td>\n",
       "      <td>...</td>\n",
       "      <td>False</td>\n",
       "      <td>False</td>\n",
       "      <td>True</td>\n",
       "      <td>True</td>\n",
       "      <td>False</td>\n",
       "      <td>False</td>\n",
       "      <td>True</td>\n",
       "      <td>False</td>\n",
       "      <td>False</td>\n",
       "      <td>2</td>\n",
       "    </tr>\n",
       "    <tr>\n",
       "      <th>3</th>\n",
       "      <td>4</td>\n",
       "      <td>51.0</td>\n",
       "      <td>2016-02-05</td>\n",
       "      <td>43.0</td>\n",
       "      <td>241</td>\n",
       "      <td>1</td>\n",
       "      <td>1</td>\n",
       "      <td>0</td>\n",
       "      <td>0</td>\n",
       "      <td>2017-04-23</td>\n",
       "      <td>...</td>\n",
       "      <td>False</td>\n",
       "      <td>False</td>\n",
       "      <td>False</td>\n",
       "      <td>False</td>\n",
       "      <td>False</td>\n",
       "      <td>True</td>\n",
       "      <td>False</td>\n",
       "      <td>False</td>\n",
       "      <td>False</td>\n",
       "      <td>0</td>\n",
       "    </tr>\n",
       "    <tr>\n",
       "      <th>4</th>\n",
       "      <td>5</td>\n",
       "      <td>37.0</td>\n",
       "      <td>2023-11-29</td>\n",
       "      <td>19.7</td>\n",
       "      <td>178</td>\n",
       "      <td>0</td>\n",
       "      <td>0</td>\n",
       "      <td>0</td>\n",
       "      <td>0</td>\n",
       "      <td>2025-01-08</td>\n",
       "      <td>...</td>\n",
       "      <td>False</td>\n",
       "      <td>False</td>\n",
       "      <td>False</td>\n",
       "      <td>False</td>\n",
       "      <td>False</td>\n",
       "      <td>True</td>\n",
       "      <td>True</td>\n",
       "      <td>False</td>\n",
       "      <td>False</td>\n",
       "      <td>0</td>\n",
       "    </tr>\n",
       "  </tbody>\n",
       "</table>\n",
       "<p>5 rows × 47 columns</p>\n",
       "</div>"
      ],
      "text/plain": [
       "   id   age diagnosis_date   bmi  cholesterol_level  hypertension  asthma  \\\n",
       "0   1  64.0     2016-04-05  29.4                199             0       0   \n",
       "1   2  50.0     2023-04-20  41.2                280             1       1   \n",
       "2   3  65.0     2023-04-05  44.0                268             1       1   \n",
       "3   4  51.0     2016-02-05  43.0                241             1       1   \n",
       "4   5  37.0     2023-11-29  19.7                178             0       0   \n",
       "\n",
       "   cirrhosis  other_cancer end_treatment_date  ...  country_Spain  \\\n",
       "0          1             0         2017-09-10  ...          False   \n",
       "1          0             0         2024-06-17  ...          False   \n",
       "2          0             0         2024-04-09  ...          False   \n",
       "3          0             0         2017-04-23  ...          False   \n",
       "4          0             0         2025-01-08  ...          False   \n",
       "\n",
       "   country_Sweden  family_history_Yes  smoking_status_Former Smoker  \\\n",
       "0            True                True                         False   \n",
       "1           False                True                         False   \n",
       "2           False                True                          True   \n",
       "3           False               False                         False   \n",
       "4           False               False                         False   \n",
       "\n",
       "   smoking_status_Never Smoked  smoking_status_Passive Smoker  \\\n",
       "0                        False                           True   \n",
       "1                        False                           True   \n",
       "2                        False                          False   \n",
       "3                        False                           True   \n",
       "4                        False                           True   \n",
       "\n",
       "   treatment_type_Combined  treatment_type_Radiation  treatment_type_Surgery  \\\n",
       "0                    False                     False                   False   \n",
       "1                    False                     False                    True   \n",
       "2                     True                     False                   False   \n",
       "3                    False                     False                   False   \n",
       "4                     True                     False                   False   \n",
       "\n",
       "   stage  \n",
       "0      0  \n",
       "1      2  \n",
       "2      2  \n",
       "3      0  \n",
       "4      0  \n",
       "\n",
       "[5 rows x 47 columns]"
      ]
     },
     "execution_count": 27,
     "metadata": {},
     "output_type": "execute_result"
    }
   ],
   "source": [
    "df.head()\n"
   ]
  }
 ],
 "metadata": {
  "kernelspec": {
   "display_name": ".venv (3.12.6)",
   "language": "python",
   "name": "python3"
  },
  "language_info": {
   "codemirror_mode": {
    "name": "ipython",
    "version": 3
   },
   "file_extension": ".py",
   "mimetype": "text/x-python",
   "name": "python",
   "nbconvert_exporter": "python",
   "pygments_lexer": "ipython3",
   "version": "3.12.6"
  }
 },
 "nbformat": 4,
 "nbformat_minor": 5
}
